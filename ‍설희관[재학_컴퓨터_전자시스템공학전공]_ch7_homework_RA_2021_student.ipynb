{
  "nbformat": 4,
  "nbformat_minor": 0,
  "metadata": {
    "colab": {
      "name": "‍설희관[재학 / 컴퓨터.전자시스템공학전공] - ch7_homework_RA-2021-student.ipynb",
      "provenance": [],
      "collapsed_sections": [],
      "include_colab_link": true
    },
    "kernelspec": {
      "display_name": "Python 3",
      "language": "python",
      "name": "python3"
    },
    "language_info": {
      "codemirror_mode": {
        "name": "ipython",
        "version": 3
      },
      "file_extension": ".py",
      "mimetype": "text/x-python",
      "name": "python",
      "nbconvert_exporter": "python",
      "pygments_lexer": "ipython3",
      "version": "3.7.3"
    }
  },
  "cells": [
    {
      "cell_type": "markdown",
      "metadata": {
        "id": "view-in-github",
        "colab_type": "text"
      },
      "source": [
        "<a href=\"https://colab.research.google.com/github/SeolHuiGwan9478/HUFSClass_DB/blob/main/%E2%80%8D%EC%84%A4%ED%9D%AC%EA%B4%80%5B%EC%9E%AC%ED%95%99_%EC%BB%B4%ED%93%A8%ED%84%B0_%EC%A0%84%EC%9E%90%EC%8B%9C%EC%8A%A4%ED%85%9C%EA%B3%B5%ED%95%99%EC%A0%84%EA%B3%B5%5D_ch7_homework_RA_2021_student.ipynb\" target=\"_parent\"><img src=\"https://colab.research.google.com/assets/colab-badge.svg\" alt=\"Open In Colab\"/></a>"
      ]
    },
    {
      "cell_type": "markdown",
      "metadata": {
        "id": "cGbn68fuu5u8"
      },
      "source": [
        "# Homework 2. Relational Algebra"
      ]
    },
    {
      "cell_type": "markdown",
      "metadata": {
        "id": "HOPoBYuyv0sw"
      },
      "source": [
        "1. Use Google Colabortory and do your homework.\n",
        "3. (In Google colaboratory) Before you submit your homework, restart kernel and run all the cells.(채점자가 cell을 실행하지 않음)\n",
        "4. Save (File->Save) the file\n",
        "5. Submit your homework (this file) in Google classroom\n",
        "6. **Don't forget to click \"제출\" button** (\"Submit\", \"완료로 표시\", 또는 \"제출\" 버턴을 누르지 않으면 제출된 것이 아님)\n",
        "7. No late homeworks will be accepted for any reason!"
      ]
    },
    {
      "cell_type": "markdown",
      "metadata": {
        "id": "oIengfEhv0sx"
      },
      "source": [
        "To edit this cell, double click here\n",
        "```\n",
        "이름:설희관\n",
        "학번:201901881\n",
        "학과:컴퓨터전자시스템공학부\n",
        "제출일:2021.10.20\n",
        "```"
      ]
    },
    {
      "cell_type": "markdown",
      "metadata": {
        "id": "0_RsuRUyv0sx"
      },
      "source": [
        "## CompanyDB Schema\n",
        "\n",
        "### Note that attribute names are capitalized\n",
        "```\n",
        "E(Fname,Minit,Lname,Ssn,Bdate,Address,Sex,Salary,Superssn,Dno)\n",
        "D(Dname,Dnumber,Mgrssn,Mgrstartdate)\n",
        "DL(Dnumber,Dlocation)\n",
        "P(Pname,Pnumber,Plocation,Dnum)\n",
        "WO(Essn,Pno,Hours)\n",
        "DE(Essn,Dependent_name,Sex,Bdate,Relationship)\n",
        "```"
      ]
    },
    {
      "cell_type": "markdown",
      "metadata": {
        "id": "pUDDFn7eu5u9"
      },
      "source": [
        "## First, run the following cell before you do your homework"
      ]
    },
    {
      "cell_type": "markdown",
      "metadata": {
        "id": "P1PmB-Q2u5u9"
      },
      "source": [
        "## DB setup"
      ]
    },
    {
      "cell_type": "code",
      "metadata": {
        "id": "9LZeWDA7u5u-"
      },
      "source": [
        "EMPLOYEE_csv = 'Fname,Minit,Lname,Ssn,Bdate,Address,Sex,Salary,Superssn,Dno\\r\\nJohn,B,Smith,123456789,1965-01-09,731-Fondren-Houston-TX,M,30000.00,333445555,5\\r\\nFranklin,T,Wong,333445555,1955-12-08,638-Voss-Houston-TX,M,40000.00,888665555,5\\r\\nJoyce,A,English,453453453,1972-07-31,5631-Rice-Houston-TX,F,25000.00,333445555,5\\r\\nRamesh,K,Narayan,666884444,1962-09-15,975-Fire-Oak-Humble-TX,M,38000.00,333445555,5\\r\\nJames,E,Borg,888665555,1937-11-10,450-Stone-Houston-TX,M,55000.00,,1\\r\\nJennifer,S,Wallace,987654321,1941-06-20,291-Berry-Bellaire-TX,F,43000.00,888665555,4\\r\\nAhmad,V,Jabbar,987987987,1969-03-29,980-Dallas-Houston-TX,M,25000.00,987654321,4\\r\\nAlicia,J,Zelaya,999887777,1968-01-19,3321-Castle-Spring-TX,F,25000.00,987654321,4\\r\\n'\n",
        "DEPARTMENT_csv = 'Dname,Dnumber,Mgrssn,Mgrstartdate\\r\\nHeadquarters,1,888665555,1981-06-19\\r\\nAdministration,4,987654321,1995-01-01\\r\\nResearch,5,333445555,1988-05-22\\r\\n'\n",
        "DEPT_LOCATIONS_csv = 'Dnumber,Dlocation\\r\\n1,Houston\\r\\n4,Stafford\\r\\n5,Bellaire\\r\\n5,Houston\\r\\n5,Sugarland\\r\\n'\n",
        "PROJECT_csv = 'Pname,Pnumber,Plocation,Dnum\\r\\nProductX,1,Bellaire,5\\r\\nProductY,2,Sugarland,5\\r\\nProductZ,3,Houston,5\\r\\nComputerization,10,Stafford,4\\r\\nReorganization,20,Houston,1\\r\\nNewbenefits,30,Stafford,4\\r\\n'\n",
        "WORKS_ON_csv = 'Essn,Pno,Hours\\r\\n123456789,1,32.5\\r\\n123456789,2,7.5\\r\\n333445555,2,10.0\\r\\n333445555,3,10.0\\r\\n333445555,10,10.0\\r\\n333445555,20,10.0\\r\\n453453453,1,20.0\\r\\n453453453,2,20.0\\r\\n666884444,3,40.0\\r\\n888665555,20,\\r\\n987654321,20,15.0\\r\\n987654321,30,20.0\\r\\n987987987,10,35.0\\r\\n987987987,30,5.0\\r\\n999887777,10,10.0\\r\\n999887777,30,30.0\\r\\n'\n",
        "DEPENDENT_csv = 'Essn,Dependent_name,Sex,Bdate,Relationship\\r\\n123456789,Alice,F,1988-12-30,Daughter\\r\\n123456789,Elizabeth,F,1967-05-05,Spouse\\r\\n123456789,Michael,M,1988-01-04,Son\\r\\n333445555,Alice,F,1986-04-05,Daughter\\r\\n333445555,Joy,F,1958-05-03,Spouse\\r\\n333445555,Theodore,M,1983-10-25,Son\\r\\n987654321,Abner,M,1942-02-28,Spouse\\r\\n'\n",
        "\n",
        "# import packages\n",
        "\n",
        "import pandas as pd\n",
        "from io import StringIO \n",
        "import re\n",
        "\n",
        "# Tables\n",
        "EMPLOYEE = pd.read_csv(StringIO(EMPLOYEE_csv))\n",
        "DEPARTMENT = pd.read_csv(StringIO(DEPARTMENT_csv))\n",
        "DEPT_LOCATIONS = pd.read_csv(StringIO(DEPT_LOCATIONS_csv))\n",
        "PROJECT = pd.read_csv(StringIO(PROJECT_csv))\n",
        "WORKS_ON = pd.read_csv(StringIO(WORKS_ON_csv))\n",
        "DEPENDENT = pd.read_csv(StringIO(DEPENDENT_csv))\n",
        "\n",
        "# short_names for Tables\n",
        "E = EMPLOYEE\n",
        "D = DEPARTMENT\n",
        "DL = DEPT_LOCATIONS\n",
        "P = PROJECT\n",
        "WO = WORKS_ON\n",
        "DE = DEPENDENT\n",
        "\n",
        "def rename(R, C):\n",
        "    return R.rename(columns=C)\n",
        "\n",
        "def select(R, C):\n",
        "    # The following substitution may NOT work \n",
        "    # when column name is equal to a string value in C\n",
        "    tokens = re.split(r'(\\W+)', C)\n",
        "    new_tokens = [\"R.\" + token  if token in R.columns else token \\\n",
        "                  for token in tokens] \n",
        "    selected = eval(''.join(new_tokens))\n",
        "    return R[selected].reset_index(drop=True)\n",
        "\n",
        "def project(R, C):\n",
        "    return R[C].drop_duplicates().reset_index(drop=True)\n",
        "\n",
        "def union(R, S):\n",
        "    S.columns = R.columns\n",
        "    T = pd.concat([R, S], ignore_index=True)\n",
        "    T = T.drop_duplicates().reset_index(drop=True)\n",
        "    return T\n",
        "\n",
        "def intersect(R, S):\n",
        "    S.columns = R.columns\n",
        "    return R.merge(S).reset_index(drop=True)\n",
        "\n",
        "def minus(R, S):\n",
        "    S.columns = R.columns\n",
        "    return pd.concat([R, S, S]).drop_duplicates(keep=False).reset_index(drop=True)\n",
        "\n",
        "def product(R, S):\n",
        "    \"\"\"Determine Cartesian product of two data frames.\"\"\"\n",
        "    key = 'key'\n",
        "    while key in R.columns or key in S.columns:\n",
        "        key = '_' + key\n",
        "    key_d = {key: 0}\n",
        "    return pd.merge(R.assign(**key_d), S.assign(**key_d), on=key)\\\n",
        "           .drop(key, axis=1).reset_index(drop=True)\n",
        "\n",
        "def natural_join(R, S):\n",
        "    return pd.merge(R, S).reset_index(drop=True)\n",
        "\n",
        "def natural_join2(R, S, keys_R, keys_S):\n",
        "    return pd.merge(R, S, left_on=keys_R, right_on=keys_S)\\\n",
        "           .drop(keys_S, axis=1).reset_index(drop=True)\n",
        "\n",
        "def division(R, S):\n",
        "    Z = set(R.columns)\n",
        "    X = set(S.columns)\n",
        "    assert X <= Z\n",
        "    Y = pd.Index(Z - X)\n",
        "    T1 = project(R, Y)\n",
        "    T2 = project(minus(product(T1, S), R), Y)\n",
        "    T = minus(T1, T2)\n",
        "    return T.reset_index(drop=True)"
      ],
      "execution_count": null,
      "outputs": []
    },
    {
      "cell_type": "markdown",
      "metadata": {
        "id": "8rQSUUGsv0s0"
      },
      "source": [
        "## <font color='red'>Query Statement에 나타나지 않은 상수(값)을 사용하면 무조건 0점 처리됨. 예를 들어, Query 1에서 \"Research\"라는 상수값만 나타나야 함</font>\n",
        "\n",
        "## 각 질의당 10점"
      ]
    },
    {
      "cell_type": "markdown",
      "metadata": {
        "id": "gHuDrP0Mv0s1"
      },
      "source": [
        "### Query 1: Retrieve the last name, first name, and address of employees who work for the \"Research\" department. (Use cartesian product. Do NOT use join)"
      ]
    },
    {
      "cell_type": "code",
      "metadata": {
        "scrolled": true,
        "colab": {
          "base_uri": "https://localhost:8080/",
          "height": 171
        },
        "id": "COo-TblMv0s1",
        "outputId": "1e2388a8-8d10-488e-8c50-b4affdc00714"
      },
      "source": [
        "# YOUR CODE HERE\n",
        "T = select(D, \"Dname=='Research'\")\n",
        "U = select(product(E, T), \"Dno==Dnumber\")\n",
        "project(U, ['Lname', 'Fname', 'Address'])"
      ],
      "execution_count": null,
      "outputs": [
        {
          "output_type": "execute_result",
          "data": {
            "text/html": [
              "<div>\n",
              "<style scoped>\n",
              "    .dataframe tbody tr th:only-of-type {\n",
              "        vertical-align: middle;\n",
              "    }\n",
              "\n",
              "    .dataframe tbody tr th {\n",
              "        vertical-align: top;\n",
              "    }\n",
              "\n",
              "    .dataframe thead th {\n",
              "        text-align: right;\n",
              "    }\n",
              "</style>\n",
              "<table border=\"1\" class=\"dataframe\">\n",
              "  <thead>\n",
              "    <tr style=\"text-align: right;\">\n",
              "      <th></th>\n",
              "      <th>Lname</th>\n",
              "      <th>Fname</th>\n",
              "      <th>Address</th>\n",
              "    </tr>\n",
              "  </thead>\n",
              "  <tbody>\n",
              "    <tr>\n",
              "      <th>0</th>\n",
              "      <td>Smith</td>\n",
              "      <td>John</td>\n",
              "      <td>731-Fondren-Houston-TX</td>\n",
              "    </tr>\n",
              "    <tr>\n",
              "      <th>1</th>\n",
              "      <td>Wong</td>\n",
              "      <td>Franklin</td>\n",
              "      <td>638-Voss-Houston-TX</td>\n",
              "    </tr>\n",
              "    <tr>\n",
              "      <th>2</th>\n",
              "      <td>English</td>\n",
              "      <td>Joyce</td>\n",
              "      <td>5631-Rice-Houston-TX</td>\n",
              "    </tr>\n",
              "    <tr>\n",
              "      <th>3</th>\n",
              "      <td>Narayan</td>\n",
              "      <td>Ramesh</td>\n",
              "      <td>975-Fire-Oak-Humble-TX</td>\n",
              "    </tr>\n",
              "  </tbody>\n",
              "</table>\n",
              "</div>"
            ],
            "text/plain": [
              "     Lname     Fname                 Address\n",
              "0    Smith      John  731-Fondren-Houston-TX\n",
              "1     Wong  Franklin     638-Voss-Houston-TX\n",
              "2  English     Joyce    5631-Rice-Houston-TX\n",
              "3  Narayan    Ramesh  975-Fire-Oak-Humble-TX"
            ]
          },
          "metadata": {},
          "execution_count": 2
        }
      ]
    },
    {
      "cell_type": "markdown",
      "metadata": {
        "id": "cRSHSWZSv0s2"
      },
      "source": [
        "### Query 2: Retrieve the last name, first name, and address of employees who work for the \"Research\" department. (Do NOT use cartesian product. Use natural join)"
      ]
    },
    {
      "cell_type": "code",
      "metadata": {
        "colab": {
          "base_uri": "https://localhost:8080/",
          "height": 171
        },
        "id": "rNuh5d5Lv0s2",
        "outputId": "9764fe8f-f4b0-4573-b20d-bd5cfd8cdf75"
      },
      "source": [
        "# YOUR CODE HERE\n",
        "T = select(D, \"Dname == 'Research'\")\n",
        "RE = rename(E, {'Dno' : 'Dnumber'})\n",
        "U = natural_join(RE, T)\n",
        "project(U, ['Lname', 'Fname', 'Address'])"
      ],
      "execution_count": null,
      "outputs": [
        {
          "output_type": "execute_result",
          "data": {
            "text/html": [
              "<div>\n",
              "<style scoped>\n",
              "    .dataframe tbody tr th:only-of-type {\n",
              "        vertical-align: middle;\n",
              "    }\n",
              "\n",
              "    .dataframe tbody tr th {\n",
              "        vertical-align: top;\n",
              "    }\n",
              "\n",
              "    .dataframe thead th {\n",
              "        text-align: right;\n",
              "    }\n",
              "</style>\n",
              "<table border=\"1\" class=\"dataframe\">\n",
              "  <thead>\n",
              "    <tr style=\"text-align: right;\">\n",
              "      <th></th>\n",
              "      <th>Lname</th>\n",
              "      <th>Fname</th>\n",
              "      <th>Address</th>\n",
              "    </tr>\n",
              "  </thead>\n",
              "  <tbody>\n",
              "    <tr>\n",
              "      <th>0</th>\n",
              "      <td>Smith</td>\n",
              "      <td>John</td>\n",
              "      <td>731-Fondren-Houston-TX</td>\n",
              "    </tr>\n",
              "    <tr>\n",
              "      <th>1</th>\n",
              "      <td>Wong</td>\n",
              "      <td>Franklin</td>\n",
              "      <td>638-Voss-Houston-TX</td>\n",
              "    </tr>\n",
              "    <tr>\n",
              "      <th>2</th>\n",
              "      <td>English</td>\n",
              "      <td>Joyce</td>\n",
              "      <td>5631-Rice-Houston-TX</td>\n",
              "    </tr>\n",
              "    <tr>\n",
              "      <th>3</th>\n",
              "      <td>Narayan</td>\n",
              "      <td>Ramesh</td>\n",
              "      <td>975-Fire-Oak-Humble-TX</td>\n",
              "    </tr>\n",
              "  </tbody>\n",
              "</table>\n",
              "</div>"
            ],
            "text/plain": [
              "     Lname     Fname                 Address\n",
              "0    Smith      John  731-Fondren-Houston-TX\n",
              "1     Wong  Franklin     638-Voss-Houston-TX\n",
              "2  English     Joyce    5631-Rice-Houston-TX\n",
              "3  Narayan    Ramesh  975-Fire-Oak-Humble-TX"
            ]
          },
          "metadata": {},
          "execution_count": 3
        }
      ]
    },
    {
      "cell_type": "markdown",
      "metadata": {
        "id": "HrHE_Lpbv0s2"
      },
      "source": [
        "### Query 3: For every project located in \"Stafford\", list the project name, the controlling department name, and the department manager's last name, first name. (Use natural_join2, No cartesian products and natural joins are allowed)"
      ]
    },
    {
      "cell_type": "code",
      "metadata": {
        "colab": {
          "base_uri": "https://localhost:8080/",
          "height": 110
        },
        "id": "fWrC2X7lv0s3",
        "outputId": "56b03143-1ca1-43e4-8811-02d3ce63c372"
      },
      "source": [
        "# YOUR CODE HERE\n",
        "SP = select(P, \"Plocation == 'Stafford'\")\n",
        "T1 = natural_join2(SP, D, ['Dnum'], ['Dnumber'])\n",
        "T2 = natural_join2(T1, E, ['Mgrssn'], ['Ssn'])\n",
        "project(T2, ['Pname', 'Dname', 'Lname', 'Fname'])"
      ],
      "execution_count": null,
      "outputs": [
        {
          "output_type": "execute_result",
          "data": {
            "text/html": [
              "<div>\n",
              "<style scoped>\n",
              "    .dataframe tbody tr th:only-of-type {\n",
              "        vertical-align: middle;\n",
              "    }\n",
              "\n",
              "    .dataframe tbody tr th {\n",
              "        vertical-align: top;\n",
              "    }\n",
              "\n",
              "    .dataframe thead th {\n",
              "        text-align: right;\n",
              "    }\n",
              "</style>\n",
              "<table border=\"1\" class=\"dataframe\">\n",
              "  <thead>\n",
              "    <tr style=\"text-align: right;\">\n",
              "      <th></th>\n",
              "      <th>Pname</th>\n",
              "      <th>Dname</th>\n",
              "      <th>Lname</th>\n",
              "      <th>Fname</th>\n",
              "    </tr>\n",
              "  </thead>\n",
              "  <tbody>\n",
              "    <tr>\n",
              "      <th>0</th>\n",
              "      <td>Computerization</td>\n",
              "      <td>Administration</td>\n",
              "      <td>Wallace</td>\n",
              "      <td>Jennifer</td>\n",
              "    </tr>\n",
              "    <tr>\n",
              "      <th>1</th>\n",
              "      <td>Newbenefits</td>\n",
              "      <td>Administration</td>\n",
              "      <td>Wallace</td>\n",
              "      <td>Jennifer</td>\n",
              "    </tr>\n",
              "  </tbody>\n",
              "</table>\n",
              "</div>"
            ],
            "text/plain": [
              "             Pname           Dname    Lname     Fname\n",
              "0  Computerization  Administration  Wallace  Jennifer\n",
              "1      Newbenefits  Administration  Wallace  Jennifer"
            ]
          },
          "metadata": {},
          "execution_count": 4
        }
      ]
    },
    {
      "cell_type": "markdown",
      "metadata": {
        "id": "hHwuUvDPv0s3"
      },
      "source": [
        "### Query 4: Find the last name, first name of employees who work on all the projects controlled by department number 4."
      ]
    },
    {
      "cell_type": "code",
      "metadata": {
        "colab": {
          "base_uri": "https://localhost:8080/",
          "height": 110
        },
        "id": "7VdFSkbMv0s3",
        "outputId": "461f3e8a-3eef-46c6-b0f2-c9f9d50738e8"
      },
      "source": [
        "# YOUR CODE HERE\n",
        "T1 = project(select(P, \"Dnum == 4\"), ['Pnumber'])\n",
        "T2 = rename(T1, {'Pnumber':'Pno'})\n",
        "T3 = project(WO, ['Essn', 'Pno'])\n",
        "T4 = natural_join2(E, division(T3, T2), ['Ssn'], ['Essn'])\n",
        "project(T4, ['Lname', 'Fname'])"
      ],
      "execution_count": null,
      "outputs": [
        {
          "output_type": "execute_result",
          "data": {
            "text/html": [
              "<div>\n",
              "<style scoped>\n",
              "    .dataframe tbody tr th:only-of-type {\n",
              "        vertical-align: middle;\n",
              "    }\n",
              "\n",
              "    .dataframe tbody tr th {\n",
              "        vertical-align: top;\n",
              "    }\n",
              "\n",
              "    .dataframe thead th {\n",
              "        text-align: right;\n",
              "    }\n",
              "</style>\n",
              "<table border=\"1\" class=\"dataframe\">\n",
              "  <thead>\n",
              "    <tr style=\"text-align: right;\">\n",
              "      <th></th>\n",
              "      <th>Lname</th>\n",
              "      <th>Fname</th>\n",
              "    </tr>\n",
              "  </thead>\n",
              "  <tbody>\n",
              "    <tr>\n",
              "      <th>0</th>\n",
              "      <td>Jabbar</td>\n",
              "      <td>Ahmad</td>\n",
              "    </tr>\n",
              "    <tr>\n",
              "      <th>1</th>\n",
              "      <td>Zelaya</td>\n",
              "      <td>Alicia</td>\n",
              "    </tr>\n",
              "  </tbody>\n",
              "</table>\n",
              "</div>"
            ],
            "text/plain": [
              "    Lname   Fname\n",
              "0  Jabbar   Ahmad\n",
              "1  Zelaya  Alicia"
            ]
          },
          "metadata": {},
          "execution_count": 5
        }
      ]
    },
    {
      "cell_type": "markdown",
      "metadata": {
        "id": "KJqST1Vuv0s3"
      },
      "source": [
        "### Query 5: Make a list of project names for projects that involve an employee whose last name is \"Wallace\", either as a worker or as a manager of the department that controls the project."
      ]
    },
    {
      "cell_type": "code",
      "metadata": {
        "colab": {
          "base_uri": "https://localhost:8080/",
          "height": 141
        },
        "id": "Q6XQmC13v0s3",
        "outputId": "bcd57952-4915-4dcf-c090-cd7e2d74d9df"
      },
      "source": [
        "# YOUR CODE HERE\n",
        "T1 = project(select(E, \"Lname == 'Wallace'\"), ['Ssn'])\n",
        "T2 = natural_join2(WO, T1, ['Essn'], ['Ssn'])\n",
        "L1 = project(natural_join2(T2, P, ['Pno'], ['Pnumber']), ['Pname']) #as a worker\n",
        "T3 = project(natural_join2(T1, D, ['Ssn'], ['Mgrssn']), ['Dnumber'])\n",
        "L2 = project(natural_join2(T3, P, ['Dnumber'], ['Dnum']), ['Pname']) #as a manager of the dapartment that controls the project\n",
        "union(L1,L2)"
      ],
      "execution_count": null,
      "outputs": [
        {
          "output_type": "execute_result",
          "data": {
            "text/html": [
              "<div>\n",
              "<style scoped>\n",
              "    .dataframe tbody tr th:only-of-type {\n",
              "        vertical-align: middle;\n",
              "    }\n",
              "\n",
              "    .dataframe tbody tr th {\n",
              "        vertical-align: top;\n",
              "    }\n",
              "\n",
              "    .dataframe thead th {\n",
              "        text-align: right;\n",
              "    }\n",
              "</style>\n",
              "<table border=\"1\" class=\"dataframe\">\n",
              "  <thead>\n",
              "    <tr style=\"text-align: right;\">\n",
              "      <th></th>\n",
              "      <th>Pname</th>\n",
              "    </tr>\n",
              "  </thead>\n",
              "  <tbody>\n",
              "    <tr>\n",
              "      <th>0</th>\n",
              "      <td>Reorganization</td>\n",
              "    </tr>\n",
              "    <tr>\n",
              "      <th>1</th>\n",
              "      <td>Newbenefits</td>\n",
              "    </tr>\n",
              "    <tr>\n",
              "      <th>2</th>\n",
              "      <td>Computerization</td>\n",
              "    </tr>\n",
              "  </tbody>\n",
              "</table>\n",
              "</div>"
            ],
            "text/plain": [
              "             Pname\n",
              "0   Reorganization\n",
              "1      Newbenefits\n",
              "2  Computerization"
            ]
          },
          "metadata": {},
          "execution_count": 6
        }
      ]
    },
    {
      "cell_type": "markdown",
      "metadata": {
        "id": "56pCySpVv0s3"
      },
      "source": [
        "### Query 6: List the last name, first name of all employees with two or more dependents. (Do NOT use aggregate operator)"
      ]
    },
    {
      "cell_type": "code",
      "metadata": {
        "id": "kEFo2f7gv0s4",
        "colab": {
          "base_uri": "https://localhost:8080/",
          "height": 110
        },
        "outputId": "90b298d6-571a-4523-8828-daf14704d4e0"
      },
      "source": [
        "# YOUR CODE HERE\n",
        "T1 = project(DE, ['Essn', 'Dependent_name'])\n",
        "T2 = project(DE, ['Essn', 'Dependent_name'])\n",
        "T3 = rename(T2, {'Essn':'Nssn'})\n",
        "T4 = natural_join2(T1,T3,['Essn'], ['Nssn'])\n",
        "T5 = project(select(T4, \"Dependent_name_x != Dependent_name_y\"), ['Essn'])\n",
        "project(natural_join2(E, T5, ['Ssn'], ['Essn']), ['Lname', 'Fname'])"
      ],
      "execution_count": null,
      "outputs": [
        {
          "output_type": "execute_result",
          "data": {
            "text/html": [
              "<div>\n",
              "<style scoped>\n",
              "    .dataframe tbody tr th:only-of-type {\n",
              "        vertical-align: middle;\n",
              "    }\n",
              "\n",
              "    .dataframe tbody tr th {\n",
              "        vertical-align: top;\n",
              "    }\n",
              "\n",
              "    .dataframe thead th {\n",
              "        text-align: right;\n",
              "    }\n",
              "</style>\n",
              "<table border=\"1\" class=\"dataframe\">\n",
              "  <thead>\n",
              "    <tr style=\"text-align: right;\">\n",
              "      <th></th>\n",
              "      <th>Lname</th>\n",
              "      <th>Fname</th>\n",
              "    </tr>\n",
              "  </thead>\n",
              "  <tbody>\n",
              "    <tr>\n",
              "      <th>0</th>\n",
              "      <td>Smith</td>\n",
              "      <td>John</td>\n",
              "    </tr>\n",
              "    <tr>\n",
              "      <th>1</th>\n",
              "      <td>Wong</td>\n",
              "      <td>Franklin</td>\n",
              "    </tr>\n",
              "  </tbody>\n",
              "</table>\n",
              "</div>"
            ],
            "text/plain": [
              "   Lname     Fname\n",
              "0  Smith      John\n",
              "1   Wong  Franklin"
            ]
          },
          "metadata": {},
          "execution_count": 12
        }
      ]
    },
    {
      "cell_type": "markdown",
      "metadata": {
        "id": "ssLuIO08v0s4"
      },
      "source": [
        "### Query 7: Retrieve the last name, first name of employees who have no dependents."
      ]
    },
    {
      "cell_type": "code",
      "metadata": {
        "id": "fjUl9Ruov0s4",
        "colab": {
          "base_uri": "https://localhost:8080/",
          "height": 202
        },
        "outputId": "433d1563-080e-4f8f-96c7-3ae912a4c394"
      },
      "source": [
        "# YOUR CODE HERE\n",
        "T1 = natural_join2(E,project(DE, ['Essn']),['Ssn'],['Essn'])\n",
        "T2 = minus(E, T1)\n",
        "project(T2, ['Lname', 'Fname'])"
      ],
      "execution_count": null,
      "outputs": [
        {
          "output_type": "execute_result",
          "data": {
            "text/html": [
              "<div>\n",
              "<style scoped>\n",
              "    .dataframe tbody tr th:only-of-type {\n",
              "        vertical-align: middle;\n",
              "    }\n",
              "\n",
              "    .dataframe tbody tr th {\n",
              "        vertical-align: top;\n",
              "    }\n",
              "\n",
              "    .dataframe thead th {\n",
              "        text-align: right;\n",
              "    }\n",
              "</style>\n",
              "<table border=\"1\" class=\"dataframe\">\n",
              "  <thead>\n",
              "    <tr style=\"text-align: right;\">\n",
              "      <th></th>\n",
              "      <th>Lname</th>\n",
              "      <th>Fname</th>\n",
              "    </tr>\n",
              "  </thead>\n",
              "  <tbody>\n",
              "    <tr>\n",
              "      <th>0</th>\n",
              "      <td>English</td>\n",
              "      <td>Joyce</td>\n",
              "    </tr>\n",
              "    <tr>\n",
              "      <th>1</th>\n",
              "      <td>Narayan</td>\n",
              "      <td>Ramesh</td>\n",
              "    </tr>\n",
              "    <tr>\n",
              "      <th>2</th>\n",
              "      <td>Borg</td>\n",
              "      <td>James</td>\n",
              "    </tr>\n",
              "    <tr>\n",
              "      <th>3</th>\n",
              "      <td>Jabbar</td>\n",
              "      <td>Ahmad</td>\n",
              "    </tr>\n",
              "    <tr>\n",
              "      <th>4</th>\n",
              "      <td>Zelaya</td>\n",
              "      <td>Alicia</td>\n",
              "    </tr>\n",
              "  </tbody>\n",
              "</table>\n",
              "</div>"
            ],
            "text/plain": [
              "     Lname   Fname\n",
              "0  English   Joyce\n",
              "1  Narayan  Ramesh\n",
              "2     Borg   James\n",
              "3   Jabbar   Ahmad\n",
              "4   Zelaya  Alicia"
            ]
          },
          "metadata": {},
          "execution_count": 8
        }
      ]
    },
    {
      "cell_type": "markdown",
      "metadata": {
        "id": "hFxWoitTv0s4"
      },
      "source": [
        "### Query 8: List the last name, first name of managers who have at least one dependent."
      ]
    },
    {
      "cell_type": "code",
      "metadata": {
        "id": "XS6FozySv0s4",
        "colab": {
          "base_uri": "https://localhost:8080/",
          "height": 110
        },
        "outputId": "83ef6dfb-516e-4192-9b4c-c2b5c2e324bf"
      },
      "source": [
        "# YOUR CODE HERE\n",
        "T1 = natural_join2(E,project(DE, ['Essn']),['Ssn'],['Essn'])\n",
        "T2 = project(T1, ['Ssn'])\n",
        "T3 = natural_join2(D,T2, ['Mgrssn'], ['Ssn'])\n",
        "T4 = project(T3, ['Mgrssn'])\n",
        "T5 = natural_join2(E, T4, ['Ssn'], ['Mgrssn'])\n",
        "project(T5, ['Lname', 'Fname'])"
      ],
      "execution_count": null,
      "outputs": [
        {
          "output_type": "execute_result",
          "data": {
            "text/html": [
              "<div>\n",
              "<style scoped>\n",
              "    .dataframe tbody tr th:only-of-type {\n",
              "        vertical-align: middle;\n",
              "    }\n",
              "\n",
              "    .dataframe tbody tr th {\n",
              "        vertical-align: top;\n",
              "    }\n",
              "\n",
              "    .dataframe thead th {\n",
              "        text-align: right;\n",
              "    }\n",
              "</style>\n",
              "<table border=\"1\" class=\"dataframe\">\n",
              "  <thead>\n",
              "    <tr style=\"text-align: right;\">\n",
              "      <th></th>\n",
              "      <th>Lname</th>\n",
              "      <th>Fname</th>\n",
              "    </tr>\n",
              "  </thead>\n",
              "  <tbody>\n",
              "    <tr>\n",
              "      <th>0</th>\n",
              "      <td>Wong</td>\n",
              "      <td>Franklin</td>\n",
              "    </tr>\n",
              "    <tr>\n",
              "      <th>1</th>\n",
              "      <td>Wallace</td>\n",
              "      <td>Jennifer</td>\n",
              "    </tr>\n",
              "  </tbody>\n",
              "</table>\n",
              "</div>"
            ],
            "text/plain": [
              "     Lname     Fname\n",
              "0     Wong  Franklin\n",
              "1  Wallace  Jennifer"
            ]
          },
          "metadata": {},
          "execution_count": 9
        }
      ]
    },
    {
      "cell_type": "markdown",
      "metadata": {
        "id": "_Fx15FI7v0s4"
      },
      "source": [
        "### Query 9: Retrieve the last name, first name of all employees in department 5 who work more than 10 hours per week on the ProductX project."
      ]
    },
    {
      "cell_type": "code",
      "metadata": {
        "id": "GLuwnMzMv0s5",
        "colab": {
          "base_uri": "https://localhost:8080/",
          "height": 110
        },
        "outputId": "db5e1a71-adcd-4c2c-be21-c0e112c71d14"
      },
      "source": [
        "# YOUR CODE HERE\n",
        "T1 = project(select(P, \"Pname == 'ProductX'\"), ['Pnumber'])\n",
        "T2 = select(product(WO, T1), \"(Pnumber == Pno) & (Hours >= 10)\")\n",
        "T3 = project(T2, ['Essn'])\n",
        "T4 = natural_join2(E, T3, ['Ssn'], ['Essn'])\n",
        "project(T4, ['Lname','Fname'])"
      ],
      "execution_count": null,
      "outputs": [
        {
          "output_type": "execute_result",
          "data": {
            "text/html": [
              "<div>\n",
              "<style scoped>\n",
              "    .dataframe tbody tr th:only-of-type {\n",
              "        vertical-align: middle;\n",
              "    }\n",
              "\n",
              "    .dataframe tbody tr th {\n",
              "        vertical-align: top;\n",
              "    }\n",
              "\n",
              "    .dataframe thead th {\n",
              "        text-align: right;\n",
              "    }\n",
              "</style>\n",
              "<table border=\"1\" class=\"dataframe\">\n",
              "  <thead>\n",
              "    <tr style=\"text-align: right;\">\n",
              "      <th></th>\n",
              "      <th>Lname</th>\n",
              "      <th>Fname</th>\n",
              "    </tr>\n",
              "  </thead>\n",
              "  <tbody>\n",
              "    <tr>\n",
              "      <th>0</th>\n",
              "      <td>Smith</td>\n",
              "      <td>John</td>\n",
              "    </tr>\n",
              "    <tr>\n",
              "      <th>1</th>\n",
              "      <td>English</td>\n",
              "      <td>Joyce</td>\n",
              "    </tr>\n",
              "  </tbody>\n",
              "</table>\n",
              "</div>"
            ],
            "text/plain": [
              "     Lname  Fname\n",
              "0    Smith   John\n",
              "1  English  Joyce"
            ]
          },
          "metadata": {},
          "execution_count": 10
        }
      ]
    },
    {
      "cell_type": "markdown",
      "metadata": {
        "id": "Icp0x91Tv0s5"
      },
      "source": [
        "### Query 10: Retrieve the last name, first name of all employees who is supervised by James Borg"
      ]
    },
    {
      "cell_type": "code",
      "metadata": {
        "id": "t-Brh-13v0s5",
        "colab": {
          "base_uri": "https://localhost:8080/",
          "height": 110
        },
        "outputId": "7b43af5d-c542-4ff3-8926-035b101aeeb1"
      },
      "source": [
        "# YOUR CODE HERE\n",
        "T1 = project(select(E, \"(Fname == 'James') & (Lname == 'Borg')\"), ['Ssn'])\n",
        "T2 = natural_join2(T1, E, ['Ssn'], ['Superssn'])\n",
        "project(T2, ['Lname', 'Fname'])"
      ],
      "execution_count": null,
      "outputs": [
        {
          "output_type": "execute_result",
          "data": {
            "text/html": [
              "<div>\n",
              "<style scoped>\n",
              "    .dataframe tbody tr th:only-of-type {\n",
              "        vertical-align: middle;\n",
              "    }\n",
              "\n",
              "    .dataframe tbody tr th {\n",
              "        vertical-align: top;\n",
              "    }\n",
              "\n",
              "    .dataframe thead th {\n",
              "        text-align: right;\n",
              "    }\n",
              "</style>\n",
              "<table border=\"1\" class=\"dataframe\">\n",
              "  <thead>\n",
              "    <tr style=\"text-align: right;\">\n",
              "      <th></th>\n",
              "      <th>Lname</th>\n",
              "      <th>Fname</th>\n",
              "    </tr>\n",
              "  </thead>\n",
              "  <tbody>\n",
              "    <tr>\n",
              "      <th>0</th>\n",
              "      <td>Wong</td>\n",
              "      <td>Franklin</td>\n",
              "    </tr>\n",
              "    <tr>\n",
              "      <th>1</th>\n",
              "      <td>Wallace</td>\n",
              "      <td>Jennifer</td>\n",
              "    </tr>\n",
              "  </tbody>\n",
              "</table>\n",
              "</div>"
            ],
            "text/plain": [
              "     Lname     Fname\n",
              "0     Wong  Franklin\n",
              "1  Wallace  Jennifer"
            ]
          },
          "metadata": {},
          "execution_count": 11
        }
      ]
    }
  ]
}